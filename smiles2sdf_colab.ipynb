{
  "cells": [
    {
      "cell_type": "markdown",
      "metadata": {
        "id": "3QOVafa84kME"
      },
      "source": [
        "# Covert Smile to SDF"
      ]
    },
    {
      "cell_type": "markdown",
      "metadata": {
        "id": "SGejqcp_4kMF"
      },
      "source": [
        "## Molecular Representations of Biological Molecules for Computing\n",
        "\n",
        "In bioinformatics, if you work with genomics you are accustomed to working with DNA sequences. For example, this is a partial DNA sequence for human dihdydrofolate reductase, an important enzyme in nucelotide metabolism.\n",
        "\n",
        "```\n",
        "GAATTCATGAAAACGTAGCTCGTCCTCAAAAAAAACAGAAGAGGAGTAATCATTTTAAGGGAGAAATATA\n",
        "TACGAAAGGAACAAGATTTTGAAGCACCCAAGCTGCCACCTACATTAAAACACGGTAGGTGGCTAAACAC\n",
        "CAGTCTTCAATGCCCTTCCACAGCCTCAGTCTGAAAAATACTGTGCAGGTGACCCAAGTGAGGGGTCACC\n",
        "CTTGGGCTTTTCCTGTGGCAGTATCTCTGGTTTAAAAACAAACAAACGTACTTATTGCGTTGAAGGACGG\n",
        "CAACAGGAAGGACTCCATGATTAGTCACATCTATACCATCCTAAGAAACTTTATCCACCCAAACTGTATT\n",
        "TCAGACTTTATAATCTAAACTACAAAAAGTGTTCACTGGGGAACTGCACAATATGACTGCTTTTAACCGT\n",
        "```\n",
        "\n",
        "The DNA sequence shown here is a simplified representation of a very complex 3D structure that is part of a chromosome, an enormously complex structure. The sequence that represents this gene can be used as a string in coding - computation with strings is orders of magnitude faster than computation with 3D structures. And we can still learn a great deal about this gene simply by exploring the sequence. Likewise we can represent the RNA transcribed from this sequence as a list of characters where T is replaced by U.\n",
        "\n",
        "If you study proteins or proteomics, you know that protein function depends on protein structure. Protein structures involve 20 (or more) building blocks so the sequences are more complex, but the principle of representing the protein as a simple string for ease with computing still applies. Here is the sequence of the dihydrofolate reductase protein that is coded in this gene sequence above.\n",
        "\n",
        "```\n",
        "MVGSLNCIVAVSQNMGIGKNGDLPWPPLRNEFRYFQRMTTTSSVEGKQNLVIMGKKTWFSIPEKNRPLKG\n",
        "RINLVLSRELKEPPQGAHFLSRSLDDALKLTEQPELANKVDMVWIVGGSSVYKEAMNHPGHLKLFVTRIM\n",
        "QDFESDTFFPEIDLEKYKLLPEYPGVLSDVQEEKGIKYKFEVYEKND\n",
        "```\n",
        "\n",
        "As we move into cheminformatics, we often want to convert small molecule structures, like the aspirin shown here, into strings for computing ease.\n",
        "\n",
        "![Aspirin.png](https://drive.google.com/uc?export=view&id=1hcWaacd-pIb09Wi9dceVSQIfkXgWC-vD)\n",
        "\n",
        "There are three well-known string conversions for small molecules, SMILES, InChI, and InChI Key. Here are the SMILES, InChI, and InChI Key strings for aspirin.\n",
        "\n",
        "SMILES: CC(=O)OC1=CC=CC=C1C(=O)O\n",
        "\n",
        "InChI: 1S/C9H8O4/c1-6(10)13-8-5-3-2-4-7(8)9(11)12/h2-5H,1H3,(H,11,12)\n",
        "\n",
        "InChI Key: BSYNRYMUTXBXSQ-UHFFFAOYSA-N\n",
        "\n",
        "In this workshop we will use SMILES strings. SMILES syntax is explained below.\n"
      ]
    },
    {
      "cell_type": "markdown",
      "metadata": {
        "id": "PIqsozvw4kMG"
      },
      "source": [
        "## Simplified Molecular-Input Line-entry System: SMILES\n",
        "\n",
        "SMILES stands for \"Simplified Molecular-Input Line-Entry System\" and is a way to represent molecules as a string of characters.\n",
        "\n",
        "Consider the molecule ethanol. The image below shows a representation that we are used to seeing in chemistry:\n",
        "\n",
        "![ethanol](https://drive.google.com/uc?export=view&id=1pBnnNujVdkw43xpDOM27nzICgnn7EqJj)\n",
        "\n",
        "However, the SMILES representation of this molecule would be \"CCO\".\n",
        "\n",
        "You can read more about SMILES at [this tutorial](https://archive.epa.gov/med/med_archive_03/web/html/smiles.html), but rules for atoms and bonds are also repeated below.\n",
        "\n",
        "### Atoms\n",
        "SMILES supports all elements in the periodic table. An atom is represented using its respective atomic symbol. Upper case letters refer to non-aromatic atoms; lower case letters refer to aromatic atoms. If the atomic symbol has more than one letter the second letter must be lower case.\n",
        "\n",
        "### Bonds\n",
        "```\n",
        "-\tSingle bond\n",
        "=\tDouble bond\n",
        "#\tTriple bond\n",
        "*\tAromatic bond\n",
        ".\tDisconnected structures\n",
        "```\n",
        "Single bonds are the default and therefore need not be entered. For example, 'CC' would mean that there is a non-aromatic carbon attached to another non-aromatic carbon by a single bond, and the computer would identify the structure as the chemical ethane. It is also assumed that the bond between two lower case atom symbols is aromatic. A blank terminates the SMILES string.\n",
        "\n",
        "### Branches\n",
        "\n",
        "A branch from a chain is specified by placing the SMILES symbol(s) for the branch between parenthesis. Some examples:\n",
        "\n",
        "```\n",
        "\n",
        "CC(O)C\t2-Propanol\n",
        "CC(=O)C\t2-Propanone\n",
        "```\n",
        "\n",
        "### Rings\n",
        "\n",
        "A ring is specified by placing a number directly after the SMILES symbol where the ring closure occurs. This number acts as a marker, indicating that the atoms with the same number are connected, thus forming a ring. For instance:\n",
        "\n",
        "```\n",
        "C1CCCC1   cyclopentane\n",
        "n1ccccc1  Pyridine\n",
        "```\n",
        "\n",
        "### SMILES Examples\n",
        "\n",
        "![SMILES Example 1](https://drive.google.com/uc?export=view&id=1-MFSoAGwqOPiqIUD06reOkBPx4BTMhGC)\n",
        "\n",
        "![SMILES Example 2](https://drive.google.com/uc?export=view&id=18Ub9L98y8cL_lDLF9wl6pLQxCkt8JFqu)\n",
        "\n",
        "### Using Online Resources\n",
        "Most of the time, you will not need to write a SMILES string by hand. You will be able to look up a molecule's SMILES string from a web database like [PubChem](https://pubchem.ncbi.nlm.nih.gov/).\n",
        "\n",
        "You can also use tools like this [molecule sketcher from the Protein Data Bank](https://www.rcsb.org/chemical-sketch)\n",
        "to draw molecules and get their SMILES strings."
      ]
    },
    {
      "cell_type": "code",
      "source": [
        "# Install RDKit and pandas\n",
        "!pip install rdkit-pypi pandas"
      ],
      "metadata": {
        "colab": {
          "base_uri": "https://localhost:8080/"
        },
        "id": "V9QipLDu4-wb",
        "outputId": "a4cabbf0-19f2-47b5-8b8f-d3cddfa92099"
      },
      "execution_count": 2,
      "outputs": [
        {
          "output_type": "stream",
          "name": "stdout",
          "text": [
            "Collecting rdkit-pypi\n",
            "  Downloading rdkit_pypi-2022.9.5-cp311-cp311-manylinux_2_17_x86_64.manylinux2014_x86_64.whl.metadata (3.9 kB)\n",
            "Requirement already satisfied: pandas in /usr/local/lib/python3.11/dist-packages (2.2.2)\n",
            "Requirement already satisfied: numpy in /usr/local/lib/python3.11/dist-packages (from rdkit-pypi) (2.0.2)\n",
            "Requirement already satisfied: Pillow in /usr/local/lib/python3.11/dist-packages (from rdkit-pypi) (11.2.1)\n",
            "Requirement already satisfied: python-dateutil>=2.8.2 in /usr/local/lib/python3.11/dist-packages (from pandas) (2.9.0.post0)\n",
            "Requirement already satisfied: pytz>=2020.1 in /usr/local/lib/python3.11/dist-packages (from pandas) (2025.2)\n",
            "Requirement already satisfied: tzdata>=2022.7 in /usr/local/lib/python3.11/dist-packages (from pandas) (2025.2)\n",
            "Requirement already satisfied: six>=1.5 in /usr/local/lib/python3.11/dist-packages (from python-dateutil>=2.8.2->pandas) (1.17.0)\n",
            "Downloading rdkit_pypi-2022.9.5-cp311-cp311-manylinux_2_17_x86_64.manylinux2014_x86_64.whl (29.4 MB)\n",
            "\u001b[2K   \u001b[90m━━━━━━━━━━━━━━━━━━━━━━━━━━━━━━━━━━━━━━━━\u001b[0m \u001b[32m29.4/29.4 MB\u001b[0m \u001b[31m54.2 MB/s\u001b[0m eta \u001b[36m0:00:00\u001b[0m\n",
            "\u001b[?25hInstalling collected packages: rdkit-pypi\n",
            "Successfully installed rdkit-pypi-2022.9.5\n"
          ]
        }
      ]
    },
    {
      "cell_type": "code",
      "source": [
        "from google.colab import drive\n",
        "drive.mount('/content/drive')"
      ],
      "metadata": {
        "colab": {
          "base_uri": "https://localhost:8080/"
        },
        "id": "hcfkzbzN5siZ",
        "outputId": "67962632-05e5-441a-bbb0-a1ed45623206"
      },
      "execution_count": 4,
      "outputs": [
        {
          "output_type": "stream",
          "name": "stdout",
          "text": [
            "Mounted at /content/drive\n"
          ]
        }
      ]
    },
    {
      "cell_type": "code",
      "source": [
        "from google.colab import files\n",
        "uploaded = files.upload()"
      ],
      "metadata": {
        "colab": {
          "base_uri": "https://localhost:8080/",
          "height": 74
        },
        "id": "A0ApS45w6bgV",
        "outputId": "5bb701a8-5f1e-404e-bd7a-3ec8af753986"
      },
      "execution_count": 6,
      "outputs": [
        {
          "output_type": "display_data",
          "data": {
            "text/plain": [
              "<IPython.core.display.HTML object>"
            ],
            "text/html": [
              "\n",
              "     <input type=\"file\" id=\"files-8cd085d5-db58-463e-b8fb-0a774f60fb2c\" name=\"files[]\" multiple disabled\n",
              "        style=\"border:none\" />\n",
              "     <output id=\"result-8cd085d5-db58-463e-b8fb-0a774f60fb2c\">\n",
              "      Upload widget is only available when the cell has been executed in the\n",
              "      current browser session. Please rerun this cell to enable.\n",
              "      </output>\n",
              "      <script>// Copyright 2017 Google LLC\n",
              "//\n",
              "// Licensed under the Apache License, Version 2.0 (the \"License\");\n",
              "// you may not use this file except in compliance with the License.\n",
              "// You may obtain a copy of the License at\n",
              "//\n",
              "//      http://www.apache.org/licenses/LICENSE-2.0\n",
              "//\n",
              "// Unless required by applicable law or agreed to in writing, software\n",
              "// distributed under the License is distributed on an \"AS IS\" BASIS,\n",
              "// WITHOUT WARRANTIES OR CONDITIONS OF ANY KIND, either express or implied.\n",
              "// See the License for the specific language governing permissions and\n",
              "// limitations under the License.\n",
              "\n",
              "/**\n",
              " * @fileoverview Helpers for google.colab Python module.\n",
              " */\n",
              "(function(scope) {\n",
              "function span(text, styleAttributes = {}) {\n",
              "  const element = document.createElement('span');\n",
              "  element.textContent = text;\n",
              "  for (const key of Object.keys(styleAttributes)) {\n",
              "    element.style[key] = styleAttributes[key];\n",
              "  }\n",
              "  return element;\n",
              "}\n",
              "\n",
              "// Max number of bytes which will be uploaded at a time.\n",
              "const MAX_PAYLOAD_SIZE = 100 * 1024;\n",
              "\n",
              "function _uploadFiles(inputId, outputId) {\n",
              "  const steps = uploadFilesStep(inputId, outputId);\n",
              "  const outputElement = document.getElementById(outputId);\n",
              "  // Cache steps on the outputElement to make it available for the next call\n",
              "  // to uploadFilesContinue from Python.\n",
              "  outputElement.steps = steps;\n",
              "\n",
              "  return _uploadFilesContinue(outputId);\n",
              "}\n",
              "\n",
              "// This is roughly an async generator (not supported in the browser yet),\n",
              "// where there are multiple asynchronous steps and the Python side is going\n",
              "// to poll for completion of each step.\n",
              "// This uses a Promise to block the python side on completion of each step,\n",
              "// then passes the result of the previous step as the input to the next step.\n",
              "function _uploadFilesContinue(outputId) {\n",
              "  const outputElement = document.getElementById(outputId);\n",
              "  const steps = outputElement.steps;\n",
              "\n",
              "  const next = steps.next(outputElement.lastPromiseValue);\n",
              "  return Promise.resolve(next.value.promise).then((value) => {\n",
              "    // Cache the last promise value to make it available to the next\n",
              "    // step of the generator.\n",
              "    outputElement.lastPromiseValue = value;\n",
              "    return next.value.response;\n",
              "  });\n",
              "}\n",
              "\n",
              "/**\n",
              " * Generator function which is called between each async step of the upload\n",
              " * process.\n",
              " * @param {string} inputId Element ID of the input file picker element.\n",
              " * @param {string} outputId Element ID of the output display.\n",
              " * @return {!Iterable<!Object>} Iterable of next steps.\n",
              " */\n",
              "function* uploadFilesStep(inputId, outputId) {\n",
              "  const inputElement = document.getElementById(inputId);\n",
              "  inputElement.disabled = false;\n",
              "\n",
              "  const outputElement = document.getElementById(outputId);\n",
              "  outputElement.innerHTML = '';\n",
              "\n",
              "  const pickedPromise = new Promise((resolve) => {\n",
              "    inputElement.addEventListener('change', (e) => {\n",
              "      resolve(e.target.files);\n",
              "    });\n",
              "  });\n",
              "\n",
              "  const cancel = document.createElement('button');\n",
              "  inputElement.parentElement.appendChild(cancel);\n",
              "  cancel.textContent = 'Cancel upload';\n",
              "  const cancelPromise = new Promise((resolve) => {\n",
              "    cancel.onclick = () => {\n",
              "      resolve(null);\n",
              "    };\n",
              "  });\n",
              "\n",
              "  // Wait for the user to pick the files.\n",
              "  const files = yield {\n",
              "    promise: Promise.race([pickedPromise, cancelPromise]),\n",
              "    response: {\n",
              "      action: 'starting',\n",
              "    }\n",
              "  };\n",
              "\n",
              "  cancel.remove();\n",
              "\n",
              "  // Disable the input element since further picks are not allowed.\n",
              "  inputElement.disabled = true;\n",
              "\n",
              "  if (!files) {\n",
              "    return {\n",
              "      response: {\n",
              "        action: 'complete',\n",
              "      }\n",
              "    };\n",
              "  }\n",
              "\n",
              "  for (const file of files) {\n",
              "    const li = document.createElement('li');\n",
              "    li.append(span(file.name, {fontWeight: 'bold'}));\n",
              "    li.append(span(\n",
              "        `(${file.type || 'n/a'}) - ${file.size} bytes, ` +\n",
              "        `last modified: ${\n",
              "            file.lastModifiedDate ? file.lastModifiedDate.toLocaleDateString() :\n",
              "                                    'n/a'} - `));\n",
              "    const percent = span('0% done');\n",
              "    li.appendChild(percent);\n",
              "\n",
              "    outputElement.appendChild(li);\n",
              "\n",
              "    const fileDataPromise = new Promise((resolve) => {\n",
              "      const reader = new FileReader();\n",
              "      reader.onload = (e) => {\n",
              "        resolve(e.target.result);\n",
              "      };\n",
              "      reader.readAsArrayBuffer(file);\n",
              "    });\n",
              "    // Wait for the data to be ready.\n",
              "    let fileData = yield {\n",
              "      promise: fileDataPromise,\n",
              "      response: {\n",
              "        action: 'continue',\n",
              "      }\n",
              "    };\n",
              "\n",
              "    // Use a chunked sending to avoid message size limits. See b/62115660.\n",
              "    let position = 0;\n",
              "    do {\n",
              "      const length = Math.min(fileData.byteLength - position, MAX_PAYLOAD_SIZE);\n",
              "      const chunk = new Uint8Array(fileData, position, length);\n",
              "      position += length;\n",
              "\n",
              "      const base64 = btoa(String.fromCharCode.apply(null, chunk));\n",
              "      yield {\n",
              "        response: {\n",
              "          action: 'append',\n",
              "          file: file.name,\n",
              "          data: base64,\n",
              "        },\n",
              "      };\n",
              "\n",
              "      let percentDone = fileData.byteLength === 0 ?\n",
              "          100 :\n",
              "          Math.round((position / fileData.byteLength) * 100);\n",
              "      percent.textContent = `${percentDone}% done`;\n",
              "\n",
              "    } while (position < fileData.byteLength);\n",
              "  }\n",
              "\n",
              "  // All done.\n",
              "  yield {\n",
              "    response: {\n",
              "      action: 'complete',\n",
              "    }\n",
              "  };\n",
              "}\n",
              "\n",
              "scope.google = scope.google || {};\n",
              "scope.google.colab = scope.google.colab || {};\n",
              "scope.google.colab._files = {\n",
              "  _uploadFiles,\n",
              "  _uploadFilesContinue,\n",
              "};\n",
              "})(self);\n",
              "</script> "
            ]
          },
          "metadata": {}
        },
        {
          "output_type": "stream",
          "name": "stdout",
          "text": [
            "Saving filtered_km_serine_proteases.csv to filtered_km_serine_proteases.csv\n"
          ]
        }
      ]
    },
    {
      "cell_type": "code",
      "execution_count": 8,
      "metadata": {
        "colab": {
          "base_uri": "https://localhost:8080/"
        },
        "id": "G6OyTGLE4kMG",
        "outputId": "31e2c8c4-e542-4e40-fa72-04507d9fbf76"
      },
      "outputs": [
        {
          "output_type": "stream",
          "name": "stdout",
          "text": [
            "✅ Saved ligand_0.sdf\n",
            "✅ Saved ligand_1.sdf\n",
            "✅ Saved ligand_2.sdf\n",
            "✅ Saved ligand_3.sdf\n",
            "✅ Saved ligand_4.sdf\n",
            "✅ Saved ligand_5.sdf\n",
            "✅ Saved ligand_6.sdf\n",
            "✅ Saved ligand_7.sdf\n",
            "✅ Saved ligand_8.sdf\n",
            "✅ Saved ligand_9.sdf\n",
            "🎉 All individual SDF files are saved in the 'ligand_sdfs' directory.\n"
          ]
        }
      ],
      "source": [
        "import os\n",
        "import pandas as pd\n",
        "from rdkit import Chem\n",
        "from rdkit.Chem import AllChem\n",
        "\n",
        "# Load the CSV file\n",
        "df = pd.read_csv(\"filtered_km_serine_proteases.csv\")\n",
        "\n",
        "# Create output directory if it doesn't exist\n",
        "output_dir = \"ligand_sdfs\"\n",
        "os.makedirs(output_dir, exist_ok=True)\n",
        "\n",
        "for i, row in df.head(10).iterrows():\n",
        "    smiles = row['substrate_smiles']  # Adjust if the column has a different name\n",
        "    ligand_id = row.get('ligand_id', f\"ligand_{i}\")  # Fallback to generic ID if not available\n",
        "\n",
        "    mol = Chem.MolFromSmiles(smiles)\n",
        "    if mol:\n",
        "        mol.SetProp(\"_Name\", str(ligand_id))\n",
        "        mol = Chem.AddHs(mol)\n",
        "\n",
        "        # Try standard embedding\n",
        "        result = AllChem.EmbedMolecule(mol, randomSeed=0xf00d)\n",
        "        if result != 0:\n",
        "            # If standard embedding fails, try random coordinate embedding\n",
        "            result = AllChem.EmbedMolecule(mol, useRandomCoords=True, randomSeed=0xf00d)\n",
        "\n",
        "        if result == 0:  # Success\n",
        "            try:\n",
        "                AllChem.UFFOptimizeMolecule(mol)\n",
        "                # Define the output file path\n",
        "                filename = f\"{ligand_id}.sdf\"\n",
        "                filepath = os.path.join(output_dir, filename)\n",
        "                # Write the molecule to an SDF file\n",
        "                writer = Chem.SDWriter(filepath)\n",
        "                writer.write(mol)\n",
        "                writer.close()\n",
        "                print(f\"✅ Saved {filename}\")\n",
        "            except Exception as e:\n",
        "                print(f\"⚠️ Optimization failed for {ligand_id}: {e}\")\n",
        "        else:\n",
        "            print(f\"❌ Embedding failed for {ligand_id} (SMILES: {smiles})\")\n",
        "\n",
        "print(f\"🎉 All individual SDF files are saved in the '{output_dir}' directory.\")"
      ]
    },
    {
      "cell_type": "code",
      "source": [
        "# Zip the folder\n",
        "!zip -r ligand_sdfs.zip ligand_sdfs\n",
        "\n",
        "# Download the zip\n",
        "from google.colab import files\n",
        "files.download(\"ligand_sdfs.zip\")"
      ],
      "metadata": {
        "colab": {
          "base_uri": "https://localhost:8080/",
          "height": 660
        },
        "id": "tzIOmtRy9ZdY",
        "outputId": "6a2f95b8-e92b-4511-de67-dbc0a7311933"
      },
      "execution_count": 9,
      "outputs": [
        {
          "output_type": "stream",
          "name": "stdout",
          "text": [
            "  adding: ligand_sdfs/ (stored 0%)\n",
            "  adding: ligand_sdfs/ligand_23.sdf (deflated 78%)\n",
            "  adding: ligand_sdfs/ligand_10.sdf (deflated 78%)\n",
            "  adding: ligand_sdfs/ligand_2.sdf (deflated 78%)\n",
            "  adding: ligand_sdfs/ligand_22.sdf (deflated 78%)\n",
            "  adding: ligand_sdfs/ligand_12.sdf (deflated 79%)\n",
            "  adding: ligand_sdfs/ligand_21.sdf (deflated 78%)\n",
            "  adding: ligand_sdfs/ligand_7.sdf (deflated 78%)\n",
            "  adding: ligand_sdfs/ligand_9.sdf (deflated 78%)\n",
            "  adding: ligand_sdfs/ligand_5.sdf (deflated 75%)\n",
            "  adding: ligand_sdfs/ligand_8.sdf (deflated 79%)\n",
            "  adding: ligand_sdfs/ligand_15.sdf (deflated 78%)\n",
            "  adding: ligand_sdfs/ligand_13.sdf (deflated 78%)\n",
            "  adding: ligand_sdfs/ligand_28.sdf (deflated 78%)\n",
            "  adding: ligand_sdfs/ligand_1.sdf (deflated 79%)\n",
            "  adding: ligand_sdfs/ligand_34.sdf (deflated 78%)\n",
            "  adding: ligand_sdfs/ligand_32.sdf (deflated 78%)\n",
            "  adding: ligand_sdfs/ligand_16.sdf (deflated 79%)\n",
            "  adding: ligand_sdfs/ligand_6.sdf (deflated 75%)\n",
            "  adding: ligand_sdfs/ligand_27.sdf (deflated 78%)\n",
            "  adding: ligand_sdfs/ligand_11.sdf (deflated 78%)\n",
            "  adding: ligand_sdfs/ligand_20.sdf (deflated 78%)\n",
            "  adding: ligand_sdfs/ligand_26.sdf (deflated 78%)\n",
            "  adding: ligand_sdfs/ligand_18.sdf (deflated 79%)\n",
            "  adding: ligand_sdfs/ligand_17.sdf (deflated 79%)\n",
            "  adding: ligand_sdfs/ligand_3.sdf (deflated 78%)\n",
            "  adding: ligand_sdfs/ligand_29.sdf (deflated 78%)\n",
            "  adding: ligand_sdfs/ligand_33.sdf (deflated 78%)\n",
            "  adding: ligand_sdfs/ligand_19.sdf (deflated 79%)\n",
            "  adding: ligand_sdfs/ligand_24.sdf (deflated 78%)\n",
            "  adding: ligand_sdfs/ligand_14.sdf (deflated 78%)\n",
            "  adding: ligand_sdfs/ligand_25.sdf (deflated 78%)\n",
            "  adding: ligand_sdfs/ligand_0.sdf (deflated 78%)\n",
            "  adding: ligand_sdfs/ligand_4.sdf (deflated 78%)\n",
            "  adding: ligand_sdfs/ligand_31.sdf (deflated 79%)\n",
            "  adding: ligand_sdfs/ligand_30.sdf (deflated 79%)\n"
          ]
        },
        {
          "output_type": "display_data",
          "data": {
            "text/plain": [
              "<IPython.core.display.Javascript object>"
            ],
            "application/javascript": [
              "\n",
              "    async function download(id, filename, size) {\n",
              "      if (!google.colab.kernel.accessAllowed) {\n",
              "        return;\n",
              "      }\n",
              "      const div = document.createElement('div');\n",
              "      const label = document.createElement('label');\n",
              "      label.textContent = `Downloading \"${filename}\": `;\n",
              "      div.appendChild(label);\n",
              "      const progress = document.createElement('progress');\n",
              "      progress.max = size;\n",
              "      div.appendChild(progress);\n",
              "      document.body.appendChild(div);\n",
              "\n",
              "      const buffers = [];\n",
              "      let downloaded = 0;\n",
              "\n",
              "      const channel = await google.colab.kernel.comms.open(id);\n",
              "      // Send a message to notify the kernel that we're ready.\n",
              "      channel.send({})\n",
              "\n",
              "      for await (const message of channel.messages) {\n",
              "        // Send a message to notify the kernel that we're ready.\n",
              "        channel.send({})\n",
              "        if (message.buffers) {\n",
              "          for (const buffer of message.buffers) {\n",
              "            buffers.push(buffer);\n",
              "            downloaded += buffer.byteLength;\n",
              "            progress.value = downloaded;\n",
              "          }\n",
              "        }\n",
              "      }\n",
              "      const blob = new Blob(buffers, {type: 'application/binary'});\n",
              "      const a = document.createElement('a');\n",
              "      a.href = window.URL.createObjectURL(blob);\n",
              "      a.download = filename;\n",
              "      div.appendChild(a);\n",
              "      a.click();\n",
              "      div.remove();\n",
              "    }\n",
              "  "
            ]
          },
          "metadata": {}
        },
        {
          "output_type": "display_data",
          "data": {
            "text/plain": [
              "<IPython.core.display.Javascript object>"
            ],
            "application/javascript": [
              "download(\"download_fd30406f-6fe3-4a22-9772-3987f95f6888\", \"ligand_sdfs.zip\", 56197)"
            ]
          },
          "metadata": {}
        }
      ]
    },
    {
      "cell_type": "code",
      "execution_count": null,
      "metadata": {
        "id": "O3ASqV664kMH"
      },
      "outputs": [],
      "source": []
    }
  ],
  "metadata": {
    "kernelspec": {
      "display_name": "reu_openmm",
      "language": "python",
      "name": "python3"
    },
    "language_info": {
      "codemirror_mode": {
        "name": "ipython",
        "version": 3
      },
      "file_extension": ".py",
      "mimetype": "text/x-python",
      "name": "python",
      "nbconvert_exporter": "python",
      "pygments_lexer": "ipython3",
      "version": "3.11.8"
    },
    "colab": {
      "provenance": []
    }
  },
  "nbformat": 4,
  "nbformat_minor": 0
}